{
 "cells": [
  {
   "cell_type": "code",
   "execution_count": 3,
   "id": "fef72b7b",
   "metadata": {},
   "outputs": [
    {
     "name": "stdout",
     "output_type": "stream",
     "text": [
      "-------------------  ---------  ---------  -------  ---------  --------  --------  ---------  -------  --------  --------\n",
      "input                -0.588533  -0.380392  1.23812  -0.199316  0.548186  0.901865  -0.540132  1.10326  0.515807  0.116383\n",
      "output (seed = 123)   0         -0.760784  0         0         0         1.80373    0         0        1.03161   0.232766\n",
      "output (seed = 123)   0         -0.760784  0         0         0         1.80373    0         0        1.03161   0.232766\n",
      "output (seed = 512)   0          0         2.47623  -0.398631  0         1.80373   -1.08026   0        0         0\n",
      "-------------------  ---------  ---------  -------  ---------  --------  --------  ---------  -------  --------  --------\n"
     ]
    }
   ],
   "source": [
    "import torch\n",
    "import triton\n",
    "import triton.language as tl\n",
    "\n",
    "DEVICE = triton.runtime.driver.active.get_active_torch_device()\n",
    "\n",
    "\n",
    "@triton.jit\n",
    "def dropout_kernel(\n",
    "    x_ptr,\n",
    "    output_ptr,\n",
    "    n,\n",
    "    p,\n",
    "    seed,\n",
    "    BLOCK_SIZE: tl.constexpr,\n",
    "):\n",
    "    pid = tl.program_id(axis=0)\n",
    "    offsets = pid * BLOCK_SIZE + tl.arange(0, BLOCK_SIZE)\n",
    "    mask = offsets < n\n",
    "    x = tl.load(x_ptr + offsets, mask=mask)\n",
    "    to_keep = tl.rand(seed, offsets) > p\n",
    "    output = tl.where(to_keep, x / (1 - p), 0.0)\n",
    "    tl.store(output_ptr + offsets, output, mask=mask)\n",
    "\n",
    "\n",
    "def seeded_dropout(x, p, seed):\n",
    "    output = torch.empty_like(x)\n",
    "    assert x.is_contiguous()\n",
    "    n_elements = x.numel()\n",
    "    grid = lambda meta: (triton.cdiv(n_elements, meta[\"BLOCK_SIZE\"]),)\n",
    "    dropout_kernel[grid](x, output, n_elements, p, seed, BLOCK_SIZE=1024)\n",
    "    return output\n",
    "\n",
    "\n",
    "x = torch.randn(size=(10,), device=DEVICE)\n",
    "# Compare this to the baseline - dropout mask is never instantiated!\n",
    "output = seeded_dropout(x, p=0.5, seed=123)\n",
    "output2 = seeded_dropout(x, p=0.5, seed=123)\n",
    "output3 = seeded_dropout(x, p=0.5, seed=512)\n",
    "\n",
    "import tabulate\n",
    "print(\n",
    "    tabulate.tabulate(\n",
    "        [\n",
    "            [\"input\"] + x.tolist(),\n",
    "            [\"output (seed = 123)\"] + output.tolist(),\n",
    "            [\"output (seed = 123)\"] + output2.tolist(),\n",
    "            [\"output (seed = 512)\"] + output3.tolist(),\n",
    "        ]\n",
    "    )\n",
    ")"
   ]
  }
 ],
 "metadata": {
  "kernelspec": {
   "display_name": "Python 3",
   "language": "python",
   "name": "python3"
  },
  "language_info": {
   "codemirror_mode": {
    "name": "ipython",
    "version": 3
   },
   "file_extension": ".py",
   "mimetype": "text/x-python",
   "name": "python",
   "nbconvert_exporter": "python",
   "pygments_lexer": "ipython3",
   "version": "3.12.11"
  }
 },
 "nbformat": 4,
 "nbformat_minor": 5
}
